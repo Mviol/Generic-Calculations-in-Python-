{
  "nbformat": 4,
  "nbformat_minor": 0,
  "metadata": {
    "colab": {
      "provenance": []
    },
    "kernelspec": {
      "name": "python3",
      "display_name": "Python 3"
    },
    "language_info": {
      "name": "python"
    }
  },
  "cells": [
    {
      "cell_type": "code",
      "execution_count": 5,
      "metadata": {
        "colab": {
          "base_uri": "https://localhost:8080/"
        },
        "id": "JdbLZmO3eoXq",
        "outputId": "1a379de8-8be2-4eed-ae52-471ef70c7465"
      },
      "outputs": [
        {
          "output_type": "stream",
          "name": "stdout",
          "text": [
            "Informe o comprimento do piso em metros: 0.3\n",
            "Informe a largura do piso em metros: 0.3\n",
            "Informe a área a ser coberta em metros quadrados: 3.4\n",
            "Metragem quadrada do piso: 0.09 m²\n",
            "Quantidade de peças de piso necessárias: 38 peças\n"
          ]
        }
      ],
      "source": [
        "# Obter as dimensões do piso e a área a ser coberta\n",
        "import math\n",
        "comprimento_piso = float(input(\"Informe o comprimento do piso em metros: \"))\n",
        "largura_piso = float(input(\"Informe a largura do piso em metros: \"))\n",
        "area_a_ser_coberta = float(input(\"Informe a área a ser coberta em metros quadrados: \"))\n",
        "\n",
        "# Calcular a metragem quadrada do piso\n",
        "metragem_quadrada_piso = comprimento_piso * largura_piso\n",
        "\n",
        "# Calcular a quantidade de peças de piso necessárias\n",
        "quantidade_de_pisos = area_a_ser_coberta / metragem_quadrada_piso\n",
        "\n",
        "# Arredondar a quantidade para cima, pois você não pode comprar uma fração de uma peça de piso\n",
        "quantidade_de_pisos = math.ceil(quantidade_de_pisos)\n",
        "\n",
        "# Exibir os resultados\n",
        "print(f\"Metragem quadrada do piso: {metragem_quadrada_piso} m²\")\n",
        "print(f\"Quantidade de peças de piso necessárias: {quantidade_de_pisos} peças\")\n"
      ]
    }
  ]
}