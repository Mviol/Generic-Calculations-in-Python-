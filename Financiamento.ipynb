{
  "nbformat": 4,
  "nbformat_minor": 0,
  "metadata": {
    "colab": {
      "provenance": []
    },
    "kernelspec": {
      "name": "python3",
      "display_name": "Python 3"
    },
    "language_info": {
      "name": "python"
    }
  },
  "cells": [
    {
      "cell_type": "code",
      "execution_count": 7,
      "metadata": {
        "colab": {
          "base_uri": "https://localhost:8080/"
        },
        "id": "Lk--3kwbHhib",
        "outputId": "19829054-cb67-4e92-af1b-88f8dedc7993"
      },
      "outputs": [
        {
          "output_type": "stream",
          "name": "stdout",
          "text": [
            "Informe o valor do financiamento: R$ 134480.00\n",
            "Informe a taxa de juros anual (%): 4.69\n",
            "Informe o prazo do financiamento (em anos): 30\n",
            "Informe o valor da entrada: R$ 51480.00\n",
            "\n",
            "Resumo do Financiamento:\n",
            "Valor do Financiamento: R$ 185960.00\n",
            "Taxa de Juros Anual: 4.69%\n",
            "Prazo do Financiamento: 30 anos\n",
            "Prestação Mensal: R$ 952.44\n",
            "Valor Total Pago: R$ 342877.08\n",
            "Valor Total de Juros Pagos: R$ 156917.08\n"
          ]
        }
      ],
      "source": [
        "# Dados do financiamento\n",
        "valor_financiamento = float(input(\"Informe o valor do financiamento: R$ \"))\n",
        "taxa_juros_anual = float(input(\"Informe a taxa de juros anual (%): \"))\n",
        "prazo_anos = int(input(\"Informe o prazo do financiamento (em anos): \"))\n",
        "\n",
        "# Acrescente esta linha para pedir o valor da entrada\n",
        "valor_entrada = float(input(\"Informe o valor da entrada: R$ \"))\n",
        "\n",
        "# Adicione o valor da entrada ao valor do financiamento\n",
        "valor_financiamento += valor_entrada\n",
        "\n",
        "# Conversão da taxa de juros anual para mensal\n",
        "taxa_juros_mensal = (1 + taxa_juros_anual / 100) ** (1 / 12) - 1\n",
        "\n",
        "# Conversão do prazo para meses\n",
        "prazo_meses = prazo_anos * 12\n",
        "\n",
        "# Cálculo dos juros mensais\n",
        "juros_mensais = valor_financiamento * taxa_juros_mensal\n",
        "\n",
        "# Cálculo do valor da prestação mensal\n",
        "prestacao_mensal = valor_financiamento * (taxa_juros_mensal / (1 - (1 + taxa_juros_mensal) ** (-prazo_meses)))\n",
        "\n",
        "# Cálculo do valor total pago (valor do financiamento + juros)\n",
        "valor_total_pago = prestacao_mensal * prazo_meses\n",
        "\n",
        "# Cálculo do valor total de juros pagos\n",
        "valor_total_juros = valor_total_pago - valor_financiamento\n",
        "\n",
        "# Exibição dos resultados\n",
        "print(\"\\nResumo do Financiamento:\")\n",
        "print(f\"Valor do Financiamento: R$ {valor_financiamento:.2f}\")\n",
        "print(f\"Taxa de Juros Anual: {taxa_juros_anual:.2f}%\")\n",
        "print(f\"Prazo do Financiamento: {prazo_anos} anos\")\n",
        "print(f\"Prestação Mensal: R$ {prestacao_mensal:.2f}\")\n",
        "print(f\"Valor Total Pago: R$ {valor_total_pago:.2f}\")\n",
        "print(f\"Valor Total de Juros Pagos: R$ {valor_total_juros:.2f}\")\n"
      ]
    }
  ]
}